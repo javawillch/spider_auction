{
 "cells": [
  {
   "cell_type": "code",
   "execution_count": 1,
   "metadata": {
    "collapsed": true
   },
   "outputs": [],
   "source": [
    "import pandas as pd"
   ]
  },
  {
   "cell_type": "code",
   "execution_count": 2,
   "metadata": {
    "collapsed": true
   },
   "outputs": [],
   "source": [
    "from matplotlib import pyplot as plt"
   ]
  },
  {
   "cell_type": "code",
   "execution_count": 8,
   "metadata": {},
   "outputs": [
    {
     "data": {
      "image/png": "[encoded data removed]",
      "text/plain": [
       "<matplotlib.figure.Figure at 0x11a0dc518>"
      ]
     },
     "metadata": {},
     "output_type": "display_data"
    }
   ],
   "source": [
    "x = [1, 2, 3]\n",
    "y = [1, 4, 9]\n",
    "z = [20, 5, 0]\n",
    "plt.plot(x, y)\n",
    "plt.plot(x, z)\n",
    "plt.title(\"test plot\")\n",
    "plt.xlabel(\"x\")\n",
    "plt.ylabel(\"y and z\")\n",
    "plt.legend([\"this is y\", \"this is z\"])\n",
    "plt.show()"
   ]
  },
  {
   "cell_type": "code",
   "execution_count": 31,
   "metadata": {},
   "outputs": [],
   "source": [
    "sample_data = pd.read_csv('gem_sample_data.csv')"
   ]
  },
  {
   "cell_type": "code",
   "execution_count": 32,
   "metadata": {},
   "outputs": [
    {
     "data": {
      "text/plain": [
       "pandas.core.frame.DataFrame"
      ]
     },
     "execution_count": 32,
     "metadata": {},
     "output_type": "execute_result"
    }
   ],
   "source": [
    "type(sample_data)"
   ]
  },
  {
   "cell_type": "code",
   "execution_count": 33,
   "metadata": {},
   "outputs": [
    {
     "data": {
      "text/html": [
       "<div>\n",
       "<style>\n",
       "    .dataframe thead tr:only-child th {\n",
       "        text-align: right;\n",
       "    }\n",
       "\n",
       "    .dataframe thead th {\n",
       "        text-align: left;\n",
       "    }\n",
       "\n",
       "    .dataframe tbody tr th {\n",
       "        vertical-align: top;\n",
       "    }\n",
       "</style>\n",
       "<table border=\"1\" class=\"dataframe\">\n",
       "  <thead>\n",
       "    <tr style=\"text-align: right;\">\n",
       "      <th></th>\n",
       "      <th>Lot_No</th>\n",
       "      <th>Lot_Title</th>\n",
       "      <th>Estimate_Price</th>\n",
       "      <th>Deal_Price</th>\n",
       "      <th>Deal_Date</th>\n",
       "      <th>Category_L0</th>\n",
       "      <th>Category_L1</th>\n",
       "      <th>No</th>\n",
       "      <th>Price</th>\n",
       "    </tr>\n",
       "  </thead>\n",
       "  <tbody>\n",
       "    <tr>\n",
       "      <th>0</th>\n",
       "      <td>lot66</td>\n",
       "      <td>SAPPHIRE AND DIAMOND RING</td>\n",
       "      <td>USD 30,000-USD 50,000</td>\n",
       "      <td>USD 50,000</td>\n",
       "      <td>8 Dec 2020</td>\n",
       "      <td>CORUNDUM</td>\n",
       "      <td>BLUE SAPPHIRE</td>\n",
       "      <td>1</td>\n",
       "      <td>50000</td>\n",
       "    </tr>\n",
       "    <tr>\n",
       "      <th>1</th>\n",
       "      <td>lot67</td>\n",
       "      <td>ART DECO COLORED SAPPHIRE AND DIAMOND RING</td>\n",
       "      <td>USD 12,000 - USD 18,000</td>\n",
       "      <td>USD 15,000</td>\n",
       "      <td>8 Dec 2020</td>\n",
       "      <td>CORUNDUM</td>\n",
       "      <td>PINK SAPPHIRE</td>\n",
       "      <td>2</td>\n",
       "      <td>15000</td>\n",
       "    </tr>\n",
       "    <tr>\n",
       "      <th>2</th>\n",
       "      <td>lot71</td>\n",
       "      <td>SAPPHIRE AND DIAMOND RING, BULGARI</td>\n",
       "      <td>USD 15,000 - USD 20,000</td>\n",
       "      <td>USD 50,000</td>\n",
       "      <td>8 Dec 2020</td>\n",
       "      <td>CORUNDUM</td>\n",
       "      <td>BLUE SAPPHIRE</td>\n",
       "      <td>3</td>\n",
       "      <td>50000</td>\n",
       "    </tr>\n",
       "    <tr>\n",
       "      <th>3</th>\n",
       "      <td>lot441</td>\n",
       "      <td>diamond</td>\n",
       "      <td>NaN</td>\n",
       "      <td>USD 40,000</td>\n",
       "      <td>8 Dec 2020</td>\n",
       "      <td>DIAMOND</td>\n",
       "      <td>RED DIAMOND</td>\n",
       "      <td>4</td>\n",
       "      <td>400000</td>\n",
       "    </tr>\n",
       "    <tr>\n",
       "      <th>4</th>\n",
       "      <td>lot328</td>\n",
       "      <td>sapphire</td>\n",
       "      <td>NaN</td>\n",
       "      <td>USD 80,000</td>\n",
       "      <td>8 Dec 2020</td>\n",
       "      <td>CORUNDUM</td>\n",
       "      <td>BLUE SAPPHIRE</td>\n",
       "      <td>5</td>\n",
       "      <td>80000</td>\n",
       "    </tr>\n",
       "  </tbody>\n",
       "</table>\n",
       "</div>"
      ],
      "text/plain": [
       "   Lot_No                                   Lot_Title  \\\n",
       "0   lot66                   SAPPHIRE AND DIAMOND RING   \n",
       "1   lot67  ART DECO COLORED SAPPHIRE AND DIAMOND RING   \n",
       "2   lot71          SAPPHIRE AND DIAMOND RING, BULGARI   \n",
       "3  lot441                                     diamond   \n",
       "4  lot328                                    sapphire   \n",
       "\n",
       "            Estimate_Price  Deal_Price   Deal_Date Category_L0    Category_L1  \\\n",
       "0    USD 30,000-USD 50,000  USD 50,000  8 Dec 2020    CORUNDUM  BLUE SAPPHIRE   \n",
       "1  USD 12,000 - USD 18,000  USD 15,000  8 Dec 2020    CORUNDUM  PINK SAPPHIRE   \n",
       "2  USD 15,000 - USD 20,000  USD 50,000  8 Dec 2020    CORUNDUM  BLUE SAPPHIRE   \n",
       "3                      NaN  USD 40,000  8 Dec 2020     DIAMOND    RED DIAMOND   \n",
       "4                      NaN  USD 80,000  8 Dec 2020    CORUNDUM  BLUE SAPPHIRE   \n",
       "\n",
       "   No   Price  \n",
       "0   1   50000  \n",
       "1   2   15000  \n",
       "2   3   50000  \n",
       "3   4  400000  \n",
       "4   5   80000  "
      ]
     },
     "execution_count": 33,
     "metadata": {},
     "output_type": "execute_result"
    }
   ],
   "source": [
    "sample_data"
   ]
  },
  {
   "cell_type": "code",
   "execution_count": 34,
   "metadata": {},
   "outputs": [
    {
     "data": {
      "text/plain": [
       "0     lot66\n",
       "1     lot67\n",
       "2     lot71\n",
       "3    lot441\n",
       "4    lot328\n",
       "Name: Lot_No, dtype: object"
      ]
     },
     "execution_count": 34,
     "metadata": {},
     "output_type": "execute_result"
    }
   ],
   "source": [
    "sample_data.Lot_No"
   ]
  },
  {
   "cell_type": "code",
   "execution_count": 35,
   "metadata": {},
   "outputs": [
    {
     "data": {
      "text/plain": [
       "'SAPPHIRE AND DIAMOND RING, BULGARI'"
      ]
     },
     "execution_count": 35,
     "metadata": {},
     "output_type": "execute_result"
    }
   ],
   "source": [
    "sample_data.Lot_Title.iloc[2]"
   ]
  },
  {
   "cell_type": "code",
   "execution_count": 36,
   "metadata": {},
   "outputs": [
    {
     "data": {
      "image/png": "[encoded data removed]",
      "text/plain": [
       "<matplotlib.figure.Figure at 0x11a2c0b70>"
      ]
     },
     "metadata": {},
     "output_type": "display_data"
    }
   ],
   "source": [
    "plt.plot(sample_data.No, sample_data.Price)\n",
    "plt.plot(sample_data.No, sample_data.Price, 'o')\n",
    "plt.show()"
   ]
  },
  {
   "cell_type": "code",
   "execution_count": 44,
   "metadata": {},
   "outputs": [],
   "source": [
    "corundom = sample_data[sample_data.Category_L0 == 'CORUNDUM']"
   ]
  },
  {
   "cell_type": "code",
   "execution_count": 45,
   "metadata": {},
   "outputs": [
    {
     "data": {
      "text/html": [
       "<div>\n",
       "<style>\n",
       "    .dataframe thead tr:only-child th {\n",
       "        text-align: right;\n",
       "    }\n",
       "\n",
       "    .dataframe thead th {\n",
       "        text-align: left;\n",
       "    }\n",
       "\n",
       "    .dataframe tbody tr th {\n",
       "        vertical-align: top;\n",
       "    }\n",
       "</style>\n",
       "<table border=\"1\" class=\"dataframe\">\n",
       "  <thead>\n",
       "    <tr style=\"text-align: right;\">\n",
       "      <th></th>\n",
       "      <th>Lot_No</th>\n",
       "      <th>Lot_Title</th>\n",
       "      <th>Estimate_Price</th>\n",
       "      <th>Deal_Price</th>\n",
       "      <th>Deal_Date</th>\n",
       "      <th>Category_L0</th>\n",
       "      <th>Category_L1</th>\n",
       "      <th>No</th>\n",
       "      <th>Price</th>\n",
       "    </tr>\n",
       "  </thead>\n",
       "  <tbody>\n",
       "    <tr>\n",
       "      <th>0</th>\n",
       "      <td>lot66</td>\n",
       "      <td>SAPPHIRE AND DIAMOND RING</td>\n",
       "      <td>USD 30,000-USD 50,000</td>\n",
       "      <td>USD 50,000</td>\n",
       "      <td>8 Dec 2020</td>\n",
       "      <td>CORUNDUM</td>\n",
       "      <td>BLUE SAPPHIRE</td>\n",
       "      <td>1</td>\n",
       "      <td>50000</td>\n",
       "    </tr>\n",
       "    <tr>\n",
       "      <th>1</th>\n",
       "      <td>lot67</td>\n",
       "      <td>ART DECO COLORED SAPPHIRE AND DIAMOND RING</td>\n",
       "      <td>USD 12,000 - USD 18,000</td>\n",
       "      <td>USD 15,000</td>\n",
       "      <td>8 Dec 2020</td>\n",
       "      <td>CORUNDUM</td>\n",
       "      <td>PINK SAPPHIRE</td>\n",
       "      <td>2</td>\n",
       "      <td>15000</td>\n",
       "    </tr>\n",
       "    <tr>\n",
       "      <th>2</th>\n",
       "      <td>lot71</td>\n",
       "      <td>SAPPHIRE AND DIAMOND RING, BULGARI</td>\n",
       "      <td>USD 15,000 - USD 20,000</td>\n",
       "      <td>USD 50,000</td>\n",
       "      <td>8 Dec 2020</td>\n",
       "      <td>CORUNDUM</td>\n",
       "      <td>BLUE SAPPHIRE</td>\n",
       "      <td>3</td>\n",
       "      <td>50000</td>\n",
       "    </tr>\n",
       "    <tr>\n",
       "      <th>4</th>\n",
       "      <td>lot328</td>\n",
       "      <td>sapphire</td>\n",
       "      <td>NaN</td>\n",
       "      <td>USD 80,000</td>\n",
       "      <td>8 Dec 2020</td>\n",
       "      <td>CORUNDUM</td>\n",
       "      <td>BLUE SAPPHIRE</td>\n",
       "      <td>5</td>\n",
       "      <td>80000</td>\n",
       "    </tr>\n",
       "  </tbody>\n",
       "</table>\n",
       "</div>"
      ],
      "text/plain": [
       "   Lot_No                                   Lot_Title  \\\n",
       "0   lot66                   SAPPHIRE AND DIAMOND RING   \n",
       "1   lot67  ART DECO COLORED SAPPHIRE AND DIAMOND RING   \n",
       "2   lot71          SAPPHIRE AND DIAMOND RING, BULGARI   \n",
       "4  lot328                                    sapphire   \n",
       "\n",
       "            Estimate_Price  Deal_Price   Deal_Date Category_L0    Category_L1  \\\n",
       "0    USD 30,000-USD 50,000  USD 50,000  8 Dec 2020    CORUNDUM  BLUE SAPPHIRE   \n",
       "1  USD 12,000 - USD 18,000  USD 15,000  8 Dec 2020    CORUNDUM  PINK SAPPHIRE   \n",
       "2  USD 15,000 - USD 20,000  USD 50,000  8 Dec 2020    CORUNDUM  BLUE SAPPHIRE   \n",
       "4                      NaN  USD 80,000  8 Dec 2020    CORUNDUM  BLUE SAPPHIRE   \n",
       "\n",
       "   No  Price  \n",
       "0   1  50000  \n",
       "1   2  15000  \n",
       "2   3  50000  \n",
       "4   5  80000  "
      ]
     },
     "execution_count": 45,
     "metadata": {},
     "output_type": "execute_result"
    }
   ],
   "source": [
    "corundom"
   ]
  },
  {
   "cell_type": "code",
   "execution_count": 56,
   "metadata": {},
   "outputs": [],
   "source": [
    "diamond = sample_data[sample_data.Category_L0 == 'DIAMOND']"
   ]
  },
  {
   "cell_type": "code",
   "execution_count": 57,
   "metadata": {},
   "outputs": [
    {
     "data": {
      "text/html": [
       "<div>\n",
       "<style>\n",
       "    .dataframe thead tr:only-child th {\n",
       "        text-align: right;\n",
       "    }\n",
       "\n",
       "    .dataframe thead th {\n",
       "        text-align: left;\n",
       "    }\n",
       "\n",
       "    .dataframe tbody tr th {\n",
       "        vertical-align: top;\n",
       "    }\n",
       "</style>\n",
       "<table border=\"1\" class=\"dataframe\">\n",
       "  <thead>\n",
       "    <tr style=\"text-align: right;\">\n",
       "      <th></th>\n",
       "      <th>Lot_No</th>\n",
       "      <th>Lot_Title</th>\n",
       "      <th>Estimate_Price</th>\n",
       "      <th>Deal_Price</th>\n",
       "      <th>Deal_Date</th>\n",
       "      <th>Category_L0</th>\n",
       "      <th>Category_L1</th>\n",
       "      <th>No</th>\n",
       "      <th>Price</th>\n",
       "    </tr>\n",
       "  </thead>\n",
       "  <tbody>\n",
       "    <tr>\n",
       "      <th>3</th>\n",
       "      <td>lot441</td>\n",
       "      <td>diamond</td>\n",
       "      <td>NaN</td>\n",
       "      <td>USD 40,000</td>\n",
       "      <td>8 Dec 2020</td>\n",
       "      <td>DIAMOND</td>\n",
       "      <td>RED DIAMOND</td>\n",
       "      <td>4</td>\n",
       "      <td>400000</td>\n",
       "    </tr>\n",
       "  </tbody>\n",
       "</table>\n",
       "</div>"
      ],
      "text/plain": [
       "   Lot_No Lot_Title Estimate_Price  Deal_Price   Deal_Date Category_L0  \\\n",
       "3  lot441   diamond            NaN  USD 40,000  8 Dec 2020     DIAMOND   \n",
       "\n",
       "   Category_L1  No   Price  \n",
       "3  RED DIAMOND   4  400000  "
      ]
     },
     "execution_count": 57,
     "metadata": {},
     "output_type": "execute_result"
    }
   ],
   "source": [
    "diamond"
   ]
  },
  {
   "cell_type": "code",
   "execution_count": null,
   "metadata": {
    "collapsed": true
   },
   "outputs": [],
   "source": []
  }
 ],
 "metadata": {
  "kernelspec": {
   "display_name": "Python 3",
   "language": "python",
   "name": "python3"
  },
  "language_info": {
   "codemirror_mode": {
    "name": "ipython",
    "version": 3
   },
   "file_extension": ".py",
   "mimetype": "text/x-python",
   "name": "python",
   "nbconvert_exporter": "python",
   "pygments_lexer": "ipython3",
   "version": "3.6.1"
  }
 },
 "nbformat": 4,
 "nbformat_minor": 2
}
